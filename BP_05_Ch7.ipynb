{
  "nbformat": 4,
  "nbformat_minor": 0,
  "metadata": {
    "colab": {
      "provenance": [],
      "authorship_tag": "ABX9TyO/llPakCoic/uUrDTe1Mab",
      "include_colab_link": true
    },
    "kernelspec": {
      "name": "python3",
      "display_name": "Python 3"
    },
    "language_info": {
      "name": "python"
    }
  },
  "cells": [
    {
      "cell_type": "markdown",
      "metadata": {
        "id": "view-in-github",
        "colab_type": "text"
      },
      "source": [
        "<a href=\"https://colab.research.google.com/github/Hyeytt/BP_05_Ch7/blob/main/BP_05_Ch7.ipynb\" target=\"_parent\"><img src=\"https://colab.research.google.com/assets/colab-badge.svg\" alt=\"Open In Colab\"/></a>"
      ]
    },
    {
      "cell_type": "markdown",
      "source": [
        "# 1."
      ],
      "metadata": {
        "id": "ND5i5sIKlFAJ"
      }
    },
    {
      "cell_type": "markdown",
      "source": [
        "    import turtle\n",
        "    t = turtle.Turtle()\n",
        "    t.shape(\"turtle\")\n",
        "    t.color(\"black\", \"white\")\n",
        "    s = turtle.Screen(); s.bgcolor('skyblue');\n",
        "    def draw_snowman(x, y):\n",
        "        t.up()\n",
        "        t.goto(x, y)\n",
        "        t.down()\n",
        "        t.begin_fill()\n",
        "        t.circle(20)\n",
        "        t.end_fill()\n",
        "        t.goto(x, y-25)\n",
        "        t.setheading(135)\n",
        "        t.forward(50)\n",
        "        t.backward(50)\n",
        "        t.setheading(30)\n",
        "        t.forward(50)\n",
        "        t.backward(50)\n",
        "        t.setheading(0)\n",
        "        t.begin_fill()\n",
        "        t.circle(15)\n",
        "        t.end_fill()\n",
        "        t.goto(x, y-70)\n",
        "        t.begin_fill()\n",
        "        t.circle(30)\n",
        "        t.end_fill()\n",
        "    draw_snowman(0, 0)\n",
        "    draw_snowman(100, 0)\n",
        "    draw_snowman(200, 0)"
      ],
      "metadata": {
        "id": "RasLaoB8lUBf"
      }
    },
    {
      "cell_type": "markdown",
      "source": [
        "# 2"
      ],
      "metadata": {
        "id": "g0T5mMOxl8Ix"
      }
    },
    {
      "cell_type": "markdown",
      "source": [
        "    import turtle\n",
        "    t = turtle.Turtle()\n",
        "    t.shape(\"turtle\")\n",
        "    t.speed(0)\n",
        "    def hexagon():\n",
        "      for i in range(6):\n",
        "        turtle.forward(100)\n",
        "        turtle.left(360/6)\n",
        "    for i in range (6):\n",
        "      hexagon()\n",
        "      turtle.forward(100)\n",
        "      turtle.right(60)"
      ],
      "metadata": {
        "id": "VGJunT5Ql9TR"
      }
    },
    {
      "cell_type": "markdown",
      "source": [
        "# 3"
      ],
      "metadata": {
        "id": "ANOuMJgkm9F9"
      }
    },
    {
      "cell_type": "markdown",
      "source": [
        "    import turtle\n",
        "    t = turtle.Turtle()\n",
        "    t.shape(\"turtle\")\n",
        "    t.speed(0)\n",
        "    def f(x):\n",
        "      return x**2+1\n",
        "\n",
        "    t.goto(200, 0)\n",
        "    t.goto(0, 0)\n",
        "    t.goto(0, 200)\n",
        "    t.goto(0, 0)\n",
        "\n",
        "    for x in range(150):\n",
        "         t.goto(x, int(0.01*f(x)))"
      ],
      "metadata": {
        "id": "Q0Hd2LWqm_Cj"
      }
    },
    {
      "cell_type": "markdown",
      "source": [
        "# 4."
      ],
      "metadata": {
        "id": "snRPoTFonPXW"
      }
    },
    {
      "cell_type": "markdown",
      "source": [
        "    import turtle\n",
        "    t = turtle.Turtle()\n",
        "    t.shape(\"turtle\")\n",
        "    t.speed(0)\n",
        "    def draw_line():\n",
        "        t.forward(100)\n",
        "        t.backward(100)\n",
        "    for x in range(12):\n",
        "        t.right(30)\n",
        "        draw_line() "
      ],
      "metadata": {
        "id": "HJWO2kBznqIA"
      }
    },
    {
      "cell_type": "markdown",
      "source": [
        "# 5"
      ],
      "metadata": {
        "id": "dVmA_fYPnyEn"
      }
    },
    {
      "cell_type": "code",
      "source": [
        "def happyBirthday(person):\n",
        " print(\"Happy Birthday to you!\")\n",
        " print(\"Happy Birthday to you!\")\n",
        " print(\"Happy Birthday, dear \" + person)\n",
        " print(\"Happy Birthday to you!\")\n",
        "happyBirthday(\"홍길동\")"
      ],
      "metadata": {
        "colab": {
          "base_uri": "https://localhost:8080/"
        },
        "id": "TtCtOB_hnZrk",
        "outputId": "44a88ac8-bd7c-49dc-f27d-62691dace478"
      },
      "execution_count": 1,
      "outputs": [
        {
          "output_type": "stream",
          "name": "stdout",
          "text": [
            "Happy Birthday to you!\n",
            "Happy Birthday to you!\n",
            "Happy Birthday, dear 홍길동\n",
            "Happy Birthday to you!\n"
          ]
        }
      ]
    },
    {
      "cell_type": "markdown",
      "source": [
        "# 6"
      ],
      "metadata": {
        "id": "vtH3wFpMnbKe"
      }
    },
    {
      "cell_type": "code",
      "source": [
        "def sumProblem(x, y):\n",
        "      sum = x + y\n",
        "      sentence = \"정수\" + str(x) + \"+\"+str(y)+\"의 합은?\"\n",
        "      print(sentence)\n",
        "def main():\n",
        "      a = int(input(\"첫 번째 정수: \"))\n",
        "      b = int(input(\"두 번째 정수: \"))\n",
        "      sumProblem(a, b)\n",
        "main()"
      ],
      "metadata": {
        "colab": {
          "base_uri": "https://localhost:8080/"
        },
        "id": "gFKBeM-2oI9L",
        "outputId": "3526613e-c4f2-4b65-8b08-a55e2d6035c7"
      },
      "execution_count": 4,
      "outputs": [
        {
          "output_type": "stream",
          "name": "stdout",
          "text": [
            "첫 번째 정수: 10\n",
            "두 번째 정수: 20\n",
            "정수10+20의 합은?\n"
          ]
        }
      ]
    },
    {
      "cell_type": "markdown",
      "source": [
        "# 7"
      ],
      "metadata": {
        "id": "49k1-703oR_k"
      }
    },
    {
      "cell_type": "code",
      "source": [
        "PI = 3.14159265358979\n",
        "def circleArea(radius):\n",
        " return PI*radius*radius\n",
        "def circleCircumference(radius):\n",
        " return 2*PI*radius\n",
        "def main():\n",
        " print('반지름이 5인 원의 면적:', circleArea(5))\n",
        " print('반지름이 5인 원의 둘레:', circleCircumference(5))\n",
        "main()"
      ],
      "metadata": {
        "colab": {
          "base_uri": "https://localhost:8080/"
        },
        "id": "1K9Q-j1joUmv",
        "outputId": "89726042-12e2-4fb1-c21b-58e3546968a3"
      },
      "execution_count": 5,
      "outputs": [
        {
          "output_type": "stream",
          "name": "stdout",
          "text": [
            "반지름이 5인 원의 면적: 78.53981633974475\n",
            "반지름이 5인 원의 둘레: 31.4159265358979\n"
          ]
        }
      ]
    },
    {
      "cell_type": "markdown",
      "source": [
        "# 8"
      ],
      "metadata": {
        "id": "2NOJujB-oVv2"
      }
    },
    {
      "cell_type": "code",
      "source": [
        "def add(a, b):\n",
        " print( \"(%d + %d)\" % (a, b), end=\" \")\n",
        " return a + b\n",
        "def subtract(a, b):\n",
        " print (\"(%d - %d)\" % (a, b), end=\" \")\n",
        " return a - b\n",
        "def multiply(a, b):\n",
        " print (\"(%d * %d)\" % (a, b), end=\" \")\n",
        " return a * b\n",
        "def divide(a, b):\n",
        " print (\"(%d / %d)\" % (a, b), end=\" \")\n",
        " return a / b\n",
        "what = add(20, 10)\n",
        "print(\"= \", what)"
      ],
      "metadata": {
        "colab": {
          "base_uri": "https://localhost:8080/"
        },
        "id": "Hm3KPTdtoZLJ",
        "outputId": "8e393186-19f0-40de-ca08-7f89ddd5b4e1"
      },
      "execution_count": 6,
      "outputs": [
        {
          "output_type": "stream",
          "name": "stdout",
          "text": [
            "(20 + 10) =  30\n"
          ]
        }
      ]
    }
  ]
}