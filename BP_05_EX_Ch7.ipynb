{
  "nbformat": 4,
  "nbformat_minor": 0,
  "metadata": {
    "colab": {
      "provenance": [],
      "authorship_tag": "ABX9TyPTQXbaLInJF9SptjZZd7mS",
      "include_colab_link": true
    },
    "kernelspec": {
      "name": "python3",
      "display_name": "Python 3"
    },
    "language_info": {
      "name": "python"
    }
  },
  "cells": [
    {
      "cell_type": "markdown",
      "metadata": {
        "id": "view-in-github",
        "colab_type": "text"
      },
      "source": [
        "<a href=\"https://colab.research.google.com/github/Hyeytt/BP_05_Ch7/blob/main/BP_05_EX_Ch7.ipynb\" target=\"_parent\"><img src=\"https://colab.research.google.com/assets/colab-badge.svg\" alt=\"Open In Colab\"/></a>"
      ]
    },
    {
      "cell_type": "markdown",
      "source": [
        "# 1."
      ],
      "metadata": {
        "id": "ND5i5sIKlFAJ"
      }
    },
    {
      "cell_type": "markdown",
      "source": [
        "    import turtle                             # 터틀 모듈을 불러온다 \n",
        "    t = turtle.Turtle()                       # 변수 t를 터틀 함수와 같다고 정한다\n",
        "    t.shape(\"turtle\")                         # t의 모양을 거북이 모양으로 정한다\n",
        "    t.color(\"black\", \"white\")                 # t의 색깔은 검은색과 하얀색이다\n",
        "    s = turtle.Screen(); s.bgcolor('skyblue');# s에 화면에 해당하는 값을 설정하고 bgcolor인 배경값으로 skyblue색으로 칠한다는 뜻\n",
        "    def draw_snowman(x, y):                   # draw_snowman 함수를 설정한다, 눈사람 모양을 그리는 함수이다\n",
        "        t.up()                                # 눈사람 머리를 그리는 문장들. 펜을 들어올린다. \n",
        "        t.goto(x, y)                          # 거북이를 x,y좌표로 이동시킨다\n",
        "        t.down()                              # 펜을 내린다\n",
        "        t.begin_fill()                        # 도형의 색을 칠하기 시작한다\n",
        "        t.circle(20)                          # 20의 크기인 원을 그린다\n",
        "        t.end_fill()                          # 도형의 색을 칠하기를 멈춘다\n",
        "        t.goto(x, y-25)                       # x좌표는 그대로, y좌표는 아래쪽으로 25만큼 이동시킨다\n",
        "        \n",
        "        t.setheading(135)                     # 눈사람의 팔을 그리는 문장들이다. 거북이의 머리방향을 135도로 설정한다\n",
        "        t.forward(50)                         # 앞으로 50만큼 이동시킨다\n",
        "        t.backward(50)                        # 뒤로 50만큼 이동시킨다\n",
        "        t.setheading(30)                      # 거북이의 머리방향을 130도로 설정한다\n",
        "        t.forward(50)                         # 앞으로 50만큼 이동시킨다\n",
        "        t.backward(50)                        # 뒤로 50만큼 이동시킨다\n",
        "        t.setheading(0)                       # 거북이의 머리방향을 0도로 설정한다\n",
        "       \n",
        "        t.begin_fill()                        # 눈사람의 몸통을 그리는 문장이다. 도형의 색을 칠하기 시작한다\n",
        "        t.circle(15)                          # 15의 크기인 원을 그린다\n",
        "        t.end_fill()                          # 도형의 색을 칠하기를 멈춘다\n",
        "        t.goto(x, y-70)                       # x좌표는 그대로 두고 아래쪽으로 70만큼 이동시킨다\n",
        "        t.begin_fill()                        # 눈사람의 아랫부분을 그리는 문장이다. 도형의 색을 칠하기 시작한다          \n",
        "        t.circle(30)                          # 30의 크기인 원을 그린다\n",
        "        t.end_fill()                          # 도형의 색을 칠하기를 멈춘다\n",
        "    \n",
        "    draw_snowman(0, 0)                        #draw_snowman함수를 (0,0)에 그린다     \n",
        "    draw_snowman(100, 0)                      #draw_snowman함수를 (100,0)에 그린다     \n",
        "    draw_snowman(200, 0)                      #draw_snowman함수를 (200,0)에 그린다     "
      ],
      "metadata": {
        "id": "RasLaoB8lUBf"
      }
    },
    {
      "cell_type": "markdown",
      "source": [
        "# 2"
      ],
      "metadata": {
        "id": "g0T5mMOxl8Ix"
      }
    },
    {
      "cell_type": "markdown",
      "source": [
        "    import turtle                       # 터틀 모듈을 불러온다 \n",
        "    t = turtle.Turtle()                 # 변수 t를 터틀 함수와 같다고 정한다\n",
        "    t.shape(\"turtle\")                   # 커서 모양을 거북이 모양으로 정한다\n",
        "    t.speed(0)                          # 그려지는 속도를 빠르게 하는 문장\n",
        "    def hexagon():                      # 육각형을 그리는 hexagon이라는 이름의 함수를 설정.\n",
        "      for i in range(6):                # 아래의 문장들을 6번 반복한다\n",
        "        turtle.forward(100)                  # 거북이를 앞으로 100만큼 이동시킨다\n",
        "        turtle.left(360/6)                   # 거북이를 왼쪽으로 120만큼 회전시킨다\n",
        "    \n",
        "    for i in range (6):                 # 아래의 문장들을 6번 반복한다\n",
        "        hexagon()                         # hexagon함수를 출력한다\n",
        "        turtle.forward(100)               # 거북이를 앞으로 100만큼 이동시킨다\n",
        "        turtle.right(60)                  # 거북이를 오른쪽으로 60만큼 회전시킨다"
      ],
      "metadata": {
        "id": "VGJunT5Ql9TR"
      }
    },
    {
      "cell_type": "markdown",
      "source": [
        "# 3"
      ],
      "metadata": {
        "id": "ANOuMJgkm9F9"
      }
    },
    {
      "cell_type": "markdown",
      "source": [
        "    import turtle                    # turtle 모듈을 불러온다              \n",
        "    t = turtle.Turtle()              # 변수 t를 터틀 함수와 같다고 정한다\n",
        "    t.shape(\"turtle\")                # 커서 모양을 거북이 모양으로 정한다\n",
        "    t.speed(0)                       # speed를 사용해 프로그램 작동속도를 빠르게 한다. 괄호 안의 0은 속도을 의미한다.\n",
        "    def f(x):                        # f(x)함수를 정의 내린다\n",
        "      return x**2+1                  # 결괏값을 받는 return함수를 사용한다.\n",
        "\n",
        "    t.goto(200, 0)                   # 200,0의 좌표로 거북이를 이동시킨다\n",
        "    t.goto(0, 0)                     # 0,0의 좌표로 거북이를 이동시킨다 \n",
        "    t.goto(0, 200)                   # 0,200의 좌표로 거북이를 이동시킨다.\n",
        "    t.goto(0, 0)                     # 0,0의 좌표로 거북이를 이동시킨다.\n",
        "\n",
        "    for x in range(150):             # 아래의 문장을 150번 반복한다 \n",
        "         t.goto(x, int(0.01*f(x)))   # 해당하는 좌표로 이동시킨다. x좌표에는 x의 값에 해당하는 만큼, y좌표에는 0.01에 함수 f(x)의 결괏값(return함수)를 곱한 값이 부여된다"
      ],
      "metadata": {
        "id": "Q0Hd2LWqm_Cj"
      }
    },
    {
      "cell_type": "markdown",
      "source": [
        "# 4."
      ],
      "metadata": {
        "id": "snRPoTFonPXW"
      }
    },
    {
      "cell_type": "markdown",
      "source": [
        "    import turtle                        # turtle 모듈을 불러온다\n",
        "    t = turtle.Turtle()                  # 변수 t를 turtle값으로 인식한다\n",
        "    t.shape(\"turtle\")                    # 커서 모양을 거북이의 모양으로 한다\n",
        "    t.speed(0)                           # 프로그램 작동속도를 빠르게 한다\n",
        "    def draw_line():                     # draw_line 함수를 설정한다\n",
        "        t.forward(100)                   # 거북이를 앞으로 100만큼 이동시킨다\n",
        "        t.backward(100)                  # 거북이를 뒤로 100만큼 이동시킨다\n",
        "    for x in range(12):                  # 아래 문장들을 12번 반복한다 \n",
        "        t.right(30)                      # 거북이를 오른쪽으로 30도 회전시킨다\n",
        "        draw_line()                      # draw_line함수를 출력시킨다"
      ],
      "metadata": {
        "id": "HJWO2kBznqIA"
      }
    },
    {
      "cell_type": "markdown",
      "source": [
        "# 5"
      ],
      "metadata": {
        "id": "dVmA_fYPnyEn"
      }
    },
    {
      "cell_type": "code",
      "source": [
        "def happyBirthday(person):                  # happyBirthday(person)함수를 설정한다          \n",
        " print(\"Happy Birthday to you!\")            # Happy Birthday to you!를 출력한다\n",
        " print(\"Happy Birthday to you!\")            # Happy Birthday to you!를 출력한다\n",
        " print(\"Happy Birthday, dear \" + person)    # Happy Birthday, dear를 출력하고 person을 추가로 출력한다\n",
        " print(\"Happy Birthday to you!\")            # Happy Birthday to you!를 출력한다. \n",
        "happyBirthday(\"홍길동\")                     # line4에 person에 홍길동을 부여한다"
      ],
      "metadata": {
        "colab": {
          "base_uri": "https://localhost:8080/"
        },
        "id": "TtCtOB_hnZrk",
        "outputId": "44a88ac8-bd7c-49dc-f27d-62691dace478"
      },
      "execution_count": null,
      "outputs": [
        {
          "output_type": "stream",
          "name": "stdout",
          "text": [
            "Happy Birthday to you!\n",
            "Happy Birthday to you!\n",
            "Happy Birthday, dear 홍길동\n",
            "Happy Birthday to you!\n"
          ]
        }
      ]
    },
    {
      "cell_type": "markdown",
      "source": [
        "# 6"
      ],
      "metadata": {
        "id": "vtH3wFpMnbKe"
      }
    },
    {
      "cell_type": "code",
      "source": [
        "def sumProblem(x, y):                                   #sumProblem를 정의내린다\n",
        "      sum = x + y                                       # sum을 x + y라고 정의내린다\n",
        "      sentence = \"정수\" + str(x) + \"+\"+str(y)+\"의 합은?\" # sentence 는 \"정수 x+y의 값은?\"을 출력하는 문장이다\n",
        "      print(sentence)                                    # print 함수를 활용하여 sentence를 출력한다\n",
        "def main():                                              # main 함수를 정의내린다 \n",
        "      a = int(input(\"첫 번째 정수: \"))                   # input함수를 활용하여 a 값을 입력받는다\n",
        "      b = int(input(\"두 번째 정수: \"))                   # input함수를 활용하여 b 값을 입력받는다\n",
        "      sumProblem(a, b)                                   # line2의 sumProblem의 x,y에 해당하는 값을 a,b로 한다 \n",
        "main()                                                   # main함수를 출력한다"
      ],
      "metadata": {
        "colab": {
          "base_uri": "https://localhost:8080/"
        },
        "id": "gFKBeM-2oI9L",
        "outputId": "3526613e-c4f2-4b65-8b08-a55e2d6035c7"
      },
      "execution_count": null,
      "outputs": [
        {
          "output_type": "stream",
          "name": "stdout",
          "text": [
            "첫 번째 정수: 10\n",
            "두 번째 정수: 20\n",
            "정수10+20의 합은?\n"
          ]
        }
      ]
    },
    {
      "cell_type": "markdown",
      "source": [
        "# 7"
      ],
      "metadata": {
        "id": "49k1-703oR_k"
      }
    },
    {
      "cell_type": "code",
      "source": [
        "PI = 3.14159265358979                                  \n",
        "def circleArea(radius):                                   # circleArea함수를 정의내린다 \n",
        " return PI*radius*radius                                  # return함수를 활용하여 해당 계산 결괏값을 얻어낸다     \n",
        "def circleCircumference(radius):                          # circleCircumference함수를 정의내린다\n",
        " return 2*PI*radius                                       # return함수를 활용하여 해당 계산 결괏값을 얻어낸다\n",
        "def main():                                               # main 함수를 정의내린다     \n",
        " print('반지름이 5인 원의 면적:', circleArea(5))            \n",
        " print('반지름이 5인 원의 둘레:', circleCircumference(5))\n",
        "main()                                                    # main 함수의 값을 출력한다"
      ],
      "metadata": {
        "colab": {
          "base_uri": "https://localhost:8080/"
        },
        "id": "1K9Q-j1joUmv",
        "outputId": "89726042-12e2-4fb1-c21b-58e3546968a3"
      },
      "execution_count": null,
      "outputs": [
        {
          "output_type": "stream",
          "name": "stdout",
          "text": [
            "반지름이 5인 원의 면적: 78.53981633974475\n",
            "반지름이 5인 원의 둘레: 31.4159265358979\n"
          ]
        }
      ]
    },
    {
      "cell_type": "markdown",
      "source": [
        "# 8"
      ],
      "metadata": {
        "id": "2NOJujB-oVv2"
      }
    },
    {
      "cell_type": "code",
      "source": [
        "def add(a, b):                                        # add함수를 정의내린다\n",
        "    print( \"(%d + %d)\" % (a, b), end=\" \")               # %d는 변환문자열를 뜻한다.\n",
        "    return a + b                                        # return함수를 이용하여 a+b의 값을 출력한다\n",
        "def subtract(a, b):                                   # substract 함수를 정의내린다\n",
        "    print (\"(%d - %d)\" % (a, b), end=\" \")               # 두수의 차이를 구하는 것을 기본으로 한다 \n",
        "    return a - b                                        # return함수를 이용하여 a-b의 값을 출력한다\n",
        "def multiply(a, b):                                   # multiply 함수를 정의내린다\n",
        "    print (\"(%d * %d)\" % (a, b), end=\" \")               # 두수의 곱을 구함을 기본으로 한다\n",
        "    return a * b                                        # return함수를 이용하여 a*b의 값을 출력한다\n",
        "def divide(a, b):                                     # divide 함수를 정의내린다\n",
        "    print (\"(%d / %d)\" % (a, b), end=\" \")               # 두수를 나누눈 것을 기본으로 한다\n",
        "    return a / b                                        # return함수를 이용하여 a/b의 값을 출력한다\n",
        "\n",
        "what = add(20, 10)                                    \n",
        "print(\"= \", what)"
      ],
      "metadata": {
        "colab": {
          "base_uri": "https://localhost:8080/"
        },
        "id": "Hm3KPTdtoZLJ",
        "outputId": "89332492-5563-4e6a-eb98-13ad38104730"
      },
      "execution_count": null,
      "outputs": [
        {
          "output_type": "stream",
          "name": "stdout",
          "text": [
            "(20 + 10) =  30\n"
          ]
        }
      ]
    }
  ]
}